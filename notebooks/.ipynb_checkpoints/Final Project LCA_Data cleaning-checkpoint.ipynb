{
 "cells": [
  {
   "cell_type": "code",
   "execution_count": 1,
   "id": "bc9f41ac",
   "metadata": {},
   "outputs": [],
   "source": [
    "import pandas as pd"
   ]
  },
  {
   "cell_type": "code",
   "execution_count": 2,
   "id": "56d3849b",
   "metadata": {},
   "outputs": [],
   "source": [
    "balances1 = pd.read_csv('~/Documents/GitHub/FinalProjectLCA/data/raw/balancesCCLedger2101.csv')\n",
    "balances2 = pd.read_csv('~/Documents/GitHub/FinalProjectLCA/data/raw/balancesCCLedger2102.csv')\n",
    "balances3 = pd.read_csv('~/Documents/GitHub/FinalProjectLCA/data/raw/balancesCCLedger2103.csv')\n",
    "balances4 = pd.read_csv('~/Documents/GitHub/FinalProjectLCA/data/raw/balancesCCLedger2104.csv')\n",
    "balances5 = pd.read_csv('~/Documents/GitHub/FinalProjectLCA/data/raw/balancesCCLedger2105.csv')\n",
    "balances6 = pd.read_csv('~/Documents/GitHub/FinalProjectLCA/data/raw/balancesCCLedger2106.csv')\n",
    "balances7 = pd.read_csv('~/Documents/GitHub/FinalProjectLCA/data/raw/balancesCCLedger2107.csv')\n",
    "balances8 = pd.read_csv('~/Documents/GitHub/FinalProjectLCA/data/raw/balancesCCLedger2108.csv')\n",
    "balances9 = pd.read_csv('~/Documents/GitHub/FinalProjectLCA/data/raw/balancesCCLedger2109.csv')\n",
    "balances10 = pd.read_csv('~/Documents/GitHub/FinalProjectLCA/data/raw/balancesCCLedger2110.csv')\n",
    "balances11 = pd.read_csv('~/Documents/GitHub/FinalProjectLCA/data/raw/balancesCCLedger2111.csv')\n",
    "balances12 = pd.read_csv('~/Documents/GitHub/FinalProjectLCA/data/raw/balancesCCLedger2112.csv')\n",
    "balances13 = pd.read_csv('~/Documents/GitHub/FinalProjectLCA/data/raw/balancesCCLedger2201.csv')\n",
    "balances14 = pd.read_csv('~/Documents/GitHub/FinalProjectLCA/data/raw/balancesCCLedger2202.csv')\n",
    "balances15 = pd.read_csv('~/Documents/GitHub/FinalProjectLCA/data/raw/balancesCCLedger2203.csv')\n",
    "balances16 = pd.read_csv('~/Documents/GitHub/FinalProjectLCA/data/raw/balancesCCLedger2204.csv')\n",
    "balances17 = pd.read_csv('~/Documents/GitHub/FinalProjectLCA/data/raw/balancesCCLedger2205.csv')\n",
    "balances18 = pd.read_csv('~/Documents/GitHub/FinalProjectLCA/data/raw/balancesCCLedger2206.csv')\n",
    "balances19 = pd.read_csv('~/Documents/GitHub/FinalProjectLCA/data/raw/balancesCCLedger2207.csv')\n",
    "balances20 = pd.read_csv('~/Documents/GitHub/FinalProjectLCA/data/raw/balancesCCLedger2208.csv')\n",
    "balances21 = pd.read_csv('~/Documents/GitHub/FinalProjectLCA/data/raw/balancesCCLedger2209.csv')\n",
    "balances22 = pd.read_csv('~/Documents/GitHub/FinalProjectLCA/data/raw/balancesCCLedger2210.csv')\n",
    "balances23 = pd.read_csv('~/Documents/GitHub/FinalProjectLCA/data/raw/balancesCCLedger2211.csv')\n",
    "balances24 = pd.read_csv('~/Documents/GitHub/FinalProjectLCA/data/raw/balancesCCLedger2212.csv')\n",
    "#balances25 = pd.read_csv('~/Documents/GitHub/FinalProjectLCA/data/raw/balancesCCLedger2301.csv')\n",
    "#balances26 = pd.read_csv('~/Documents/GitHub/FinalProjectLCA/data/raw/balancesCCLedger2302.csv')\n",
    "#balances27 = pd.read_csv('~/Documents/GitHub/FinalProjectLCA/data/raw/balancesCCLedger2303.csv')\n",
    "#balances28 = pd.read_csv('~/Documents/GitHub/FinalProjectLCA/data/raw/balancesCCLedger2304.csv')\n",
    "#balances29 = pd.read_csv('~/Documents/GitHub/FinalProjectLCA/data/raw/balancesCCLedger2305.csv')\n",
    "#balances30 = pd.read_csv('~/Documents/GitHub/FinalProjectLCA/data/raw/balancesCCLedger2306.csv')"
   ]
  },
  {
   "cell_type": "code",
   "execution_count": 3,
   "id": "81aed8d2",
   "metadata": {},
   "outputs": [],
   "source": [
    "daysLate1 = pd.read_csv('~/Documents/GitHub/FinalProjectLCA/data/raw/daysLate2101.csv')\n",
    "daysLate2 = pd.read_csv('~/Documents/GitHub/FinalProjectLCA/data/raw/daysLate2102.csv')\n",
    "daysLate3 = pd.read_csv('~/Documents/GitHub/FinalProjectLCA/data/raw/daysLate2103.csv')\n",
    "daysLate4 = pd.read_csv('~/Documents/GitHub/FinalProjectLCA/data/raw/daysLate2104.csv')\n",
    "daysLate5 = pd.read_csv('~/Documents/GitHub/FinalProjectLCA/data/raw/daysLate2105.csv')\n",
    "daysLate6 = pd.read_csv('~/Documents/GitHub/FinalProjectLCA/data/raw/daysLate2106.csv')\n",
    "daysLate7 = pd.read_csv('~/Documents/GitHub/FinalProjectLCA/data/raw/daysLate2107.csv')\n",
    "daysLate8 = pd.read_csv('~/Documents/GitHub/FinalProjectLCA/data/raw/daysLate2108.csv')\n",
    "daysLate9 = pd.read_csv('~/Documents/GitHub/FinalProjectLCA/data/raw/daysLate2109.csv')\n",
    "daysLate10 = pd.read_csv('~/Documents/GitHub/FinalProjectLCA/data/raw/daysLate2110.csv')\n",
    "daysLate11 = pd.read_csv('~/Documents/GitHub/FinalProjectLCA/data/raw/daysLate2111.csv')\n",
    "daysLate12 = pd.read_csv('~/Documents/GitHub/FinalProjectLCA/data/raw/daysLate2112.csv')\n",
    "daysLate13 = pd.read_csv('~/Documents/GitHub/FinalProjectLCA/data/raw/daysLate2201.csv')\n",
    "daysLate14 = pd.read_csv('~/Documents/GitHub/FinalProjectLCA/data/raw/daysLate2202.csv')\n",
    "daysLate15 = pd.read_csv('~/Documents/GitHub/FinalProjectLCA/data/raw/daysLate2203.csv')\n",
    "daysLate16 = pd.read_csv('~/Documents/GitHub/FinalProjectLCA/data/raw/daysLate2204.csv')\n",
    "daysLate17 = pd.read_csv('~/Documents/GitHub/FinalProjectLCA/data/raw/daysLate2205.csv')\n",
    "daysLate18 = pd.read_csv('~/Documents/GitHub/FinalProjectLCA/data/raw/daysLate2206.csv')\n",
    "daysLate19 = pd.read_csv('~/Documents/GitHub/FinalProjectLCA/data/raw/daysLate2207.csv')\n",
    "daysLate20 = pd.read_csv('~/Documents/GitHub/FinalProjectLCA/data/raw/daysLate2208.csv')\n",
    "daysLate21 = pd.read_csv('~/Documents/GitHub/FinalProjectLCA/data/raw/daysLate2209.csv')\n",
    "daysLate22 = pd.read_csv('~/Documents/GitHub/FinalProjectLCA/data/raw/daysLate2210.csv')\n",
    "daysLate23 = pd.read_csv('~/Documents/GitHub/FinalProjectLCA/data/raw/daysLate2211.csv')\n",
    "daysLate24 = pd.read_csv('~/Documents/GitHub/FinalProjectLCA/data/raw/daysLate2212.csv')\n",
    "#daysLate25 = pd.read_csv('~/Documents/GitHub/FinalProjectLCA/data/raw/daysLate2301.csv')\n",
    "#daysLate26 = pd.read_csv('~/Documents/GitHub/FinalProjectLCA/data/raw/daysLate2302.csv')\n",
    "#daysLate27 = pd.read_csv('~/Documents/GitHub/FinalProjectLCA/data/raw/daysLate2303.csv')\n",
    "#daysLate28 = pd.read_csv('~/Documents/GitHub/FinalProjectLCA/data/raw/daysLate2304.csv')\n",
    "#daysLate29 = pd.read_csv('~/Documents/GitHub/FinalProjectLCA/data/raw/daysLate2305.csv')\n",
    "#daysLate30 = pd.read_csv('~/Documents/GitHub/FinalProjectLCA/data/raw/daysLate2306.csv')"
   ]
  },
  {
   "cell_type": "code",
   "execution_count": 4,
   "id": "6afd142c",
   "metadata": {},
   "outputs": [],
   "source": [
    "totalBalances = pd.concat([balances1, balances2, balances3, balances4, balances5, balances6, balances7, balances8, \n",
    "                           balances9, balances10, balances11, balances12, balances13, balances14, balances15, \n",
    "                           balances16, balances17, balances18, balances19, balances20, balances21, balances22,\n",
    "                           balances23, balances24])"
   ]
  },
  {
   "cell_type": "code",
   "execution_count": 5,
   "id": "7ac44df7",
   "metadata": {},
   "outputs": [],
   "source": [
    "totalBalances[\"SaldoInsoluto\"] = totalBalances.asset__settled_national + totalBalances.asset__late + totalBalances.asset__payments_in_advance + totalBalances.asset__interests_fees_and_taxes +totalBalances.asset__loan + totalBalances.asset__closed + totalBalances.asset__revolving + totalBalances.asset__settled_foreign"
   ]
  },
  {
   "cell_type": "code",
   "execution_count": 6,
   "id": "d0a6ebb1",
   "metadata": {},
   "outputs": [],
   "source": [
    "totalSaldoInsoluto = totalBalances[[\"account__id\", \"date\", \"asset__current_limit\",\"SaldoInsoluto\"]]"
   ]
  },
  {
   "cell_type": "code",
   "execution_count": 7,
   "id": "c1669fe4",
   "metadata": {},
   "outputs": [
    {
     "data": {
      "text/plain": [
       "account__id             0\n",
       "date                    0\n",
       "asset__current_limit    0\n",
       "SaldoInsoluto           0\n",
       "dtype: int64"
      ]
     },
     "execution_count": 7,
     "metadata": {},
     "output_type": "execute_result"
    }
   ],
   "source": [
    "totalSaldoInsoluto.isna().sum()"
   ]
  },
  {
   "cell_type": "code",
   "execution_count": 8,
   "id": "62f8e38a",
   "metadata": {},
   "outputs": [
    {
     "data": {
      "text/plain": [
       "asset__current_limit\n",
       "0.0    32036035\n",
       "Name: count, dtype: int64"
      ]
     },
     "execution_count": 8,
     "metadata": {},
     "output_type": "execute_result"
    }
   ],
   "source": [
    "totalSaldoInsoluto.value_counts(\"asset__current_limit\")"
   ]
  },
  {
   "cell_type": "code",
   "execution_count": 9,
   "id": "381419db",
   "metadata": {},
   "outputs": [
    {
     "name": "stderr",
     "output_type": "stream",
     "text": [
      "/var/folders/v4/bqj9vzp11vd1cvhf93rmpqt00000gp/T/ipykernel_66287/1330281887.py:1: SettingWithCopyWarning: \n",
      "A value is trying to be set on a copy of a slice from a DataFrame\n",
      "\n",
      "See the caveats in the documentation: https://pandas.pydata.org/pandas-docs/stable/user_guide/indexing.html#returning-a-view-versus-a-copy\n",
      "  totalSaldoInsoluto.drop(\"asset__current_limit\", axis = 1, inplace = True)\n"
     ]
    }
   ],
   "source": [
    "totalSaldoInsoluto.drop(\"asset__current_limit\", axis = 1, inplace = True)"
   ]
  },
  {
   "cell_type": "code",
   "execution_count": 10,
   "id": "ef6e73ea",
   "metadata": {},
   "outputs": [],
   "source": [
    "totaldaysLate = pd.concat([daysLate1, daysLate2, daysLate3, daysLate4, daysLate5, daysLate6, daysLate7, daysLate8, \n",
    "                           daysLate9, daysLate10, daysLate11, daysLate12, daysLate13, daysLate14, daysLate15, \n",
    "                           daysLate16, daysLate17, daysLate18, daysLate19, daysLate20, daysLate21, daysLate22,\n",
    "                           daysLate23, daysLate24])"
   ]
  },
  {
   "cell_type": "code",
   "execution_count": 11,
   "id": "3c34e98f",
   "metadata": {},
   "outputs": [
    {
     "data": {
      "text/plain": [
       "account__id                               0\n",
       "entry__post_date                          0\n",
       "days_late_at_date                         0\n",
       "customer_status_final                     0\n",
       "create_write_off_movements_date    26221854\n",
       "dtype: int64"
      ]
     },
     "execution_count": 11,
     "metadata": {},
     "output_type": "execute_result"
    }
   ],
   "source": [
    "totaldaysLate.isna().sum()"
   ]
  },
  {
   "cell_type": "code",
   "execution_count": 12,
   "id": "5f2e8a42",
   "metadata": {},
   "outputs": [],
   "source": [
    "totaldaysLate.drop(\"create_write_off_movements_date\", axis = 1, inplace = True)"
   ]
  },
  {
   "cell_type": "code",
   "execution_count": 13,
   "id": "04ba5897",
   "metadata": {},
   "outputs": [],
   "source": [
    "finaldf = pd.merge(totalSaldoInsoluto,totaldaysLate,left_on = ['account__id','date'], right_on = ['account__id','entry__post_date'], how='inner')"
   ]
  },
  {
   "cell_type": "code",
   "execution_count": 14,
   "id": "669c3ec5",
   "metadata": {},
   "outputs": [
    {
     "data": {
      "text/plain": [
       "3094282"
      ]
     },
     "execution_count": 14,
     "metadata": {},
     "output_type": "execute_result"
    }
   ],
   "source": [
    "finaldf.account__id.nunique()"
   ]
  },
  {
   "cell_type": "code",
   "execution_count": 15,
   "id": "52f00276",
   "metadata": {},
   "outputs": [],
   "source": [
    "finaldf.drop(\"entry__post_date\", axis = 1, inplace = True)"
   ]
  },
  {
   "cell_type": "code",
   "execution_count": 16,
   "id": "6807579f",
   "metadata": {},
   "outputs": [
    {
     "data": {
      "text/html": [
       "<div>\n",
       "<style scoped>\n",
       "    .dataframe tbody tr th:only-of-type {\n",
       "        vertical-align: middle;\n",
       "    }\n",
       "\n",
       "    .dataframe tbody tr th {\n",
       "        vertical-align: top;\n",
       "    }\n",
       "\n",
       "    .dataframe thead th {\n",
       "        text-align: right;\n",
       "    }\n",
       "</style>\n",
       "<table border=\"1\" class=\"dataframe\">\n",
       "  <thead>\n",
       "    <tr style=\"text-align: right;\">\n",
       "      <th></th>\n",
       "      <th>account__id</th>\n",
       "      <th>date</th>\n",
       "      <th>SaldoInsoluto</th>\n",
       "      <th>days_late_at_date</th>\n",
       "      <th>customer_status_final</th>\n",
       "    </tr>\n",
       "  </thead>\n",
       "  <tbody>\n",
       "    <tr>\n",
       "      <th>0</th>\n",
       "      <td>5daa2b82-f1ff-4f2d-a93e-5a6e887e50a2</td>\n",
       "      <td>2021-01-31</td>\n",
       "      <td>7773.888191</td>\n",
       "      <td>0</td>\n",
       "      <td>current</td>\n",
       "    </tr>\n",
       "    <tr>\n",
       "      <th>1</th>\n",
       "      <td>5df510ff-4850-42e0-ae7b-9f6cf07bc7a3</td>\n",
       "      <td>2021-01-31</td>\n",
       "      <td>4952.785658</td>\n",
       "      <td>0</td>\n",
       "      <td>current</td>\n",
       "    </tr>\n",
       "    <tr>\n",
       "      <th>2</th>\n",
       "      <td>5e30304e-648e-454f-9d4b-638144264ac4</td>\n",
       "      <td>2021-01-31</td>\n",
       "      <td>4084.748315</td>\n",
       "      <td>0</td>\n",
       "      <td>current</td>\n",
       "    </tr>\n",
       "    <tr>\n",
       "      <th>3</th>\n",
       "      <td>5e7959f1-aa3d-4010-9625-44bda535709f</td>\n",
       "      <td>2021-01-31</td>\n",
       "      <td>7470.341882</td>\n",
       "      <td>0</td>\n",
       "      <td>current</td>\n",
       "    </tr>\n",
       "    <tr>\n",
       "      <th>4</th>\n",
       "      <td>5f114ecd-4fb4-42e1-85ff-6049021a3b01</td>\n",
       "      <td>2021-01-31</td>\n",
       "      <td>1904.930000</td>\n",
       "      <td>0</td>\n",
       "      <td>current</td>\n",
       "    </tr>\n",
       "    <tr>\n",
       "      <th>...</th>\n",
       "      <td>...</td>\n",
       "      <td>...</td>\n",
       "      <td>...</td>\n",
       "      <td>...</td>\n",
       "      <td>...</td>\n",
       "    </tr>\n",
       "    <tr>\n",
       "      <th>30297694</th>\n",
       "      <td>639fee56-c8dd-43d8-8302-89ffed8195a1</td>\n",
       "      <td>2022-12-31</td>\n",
       "      <td>299.000000</td>\n",
       "      <td>0</td>\n",
       "      <td>current</td>\n",
       "    </tr>\n",
       "    <tr>\n",
       "      <th>30297695</th>\n",
       "      <td>63a0efd6-d9ce-4789-81e6-760843b54b1d</td>\n",
       "      <td>2022-12-31</td>\n",
       "      <td>1609.980000</td>\n",
       "      <td>0</td>\n",
       "      <td>current</td>\n",
       "    </tr>\n",
       "    <tr>\n",
       "      <th>30297696</th>\n",
       "      <td>63a0fc26-e18c-4008-a336-34a094ce0324</td>\n",
       "      <td>2022-12-31</td>\n",
       "      <td>4322.700000</td>\n",
       "      <td>0</td>\n",
       "      <td>current</td>\n",
       "    </tr>\n",
       "    <tr>\n",
       "      <th>30297697</th>\n",
       "      <td>63adb370-c861-42e6-b00a-fb94566f12a9</td>\n",
       "      <td>2022-12-31</td>\n",
       "      <td>1.000000</td>\n",
       "      <td>0</td>\n",
       "      <td>current</td>\n",
       "    </tr>\n",
       "    <tr>\n",
       "      <th>30297698</th>\n",
       "      <td>63ae0f18-45f2-4ec4-9241-06ca89f64339</td>\n",
       "      <td>2022-12-31</td>\n",
       "      <td>254.770000</td>\n",
       "      <td>0</td>\n",
       "      <td>current</td>\n",
       "    </tr>\n",
       "  </tbody>\n",
       "</table>\n",
       "<p>30297699 rows × 5 columns</p>\n",
       "</div>"
      ],
      "text/plain": [
       "                                   account__id        date  SaldoInsoluto   \n",
       "0         5daa2b82-f1ff-4f2d-a93e-5a6e887e50a2  2021-01-31    7773.888191  \\\n",
       "1         5df510ff-4850-42e0-ae7b-9f6cf07bc7a3  2021-01-31    4952.785658   \n",
       "2         5e30304e-648e-454f-9d4b-638144264ac4  2021-01-31    4084.748315   \n",
       "3         5e7959f1-aa3d-4010-9625-44bda535709f  2021-01-31    7470.341882   \n",
       "4         5f114ecd-4fb4-42e1-85ff-6049021a3b01  2021-01-31    1904.930000   \n",
       "...                                        ...         ...            ...   \n",
       "30297694  639fee56-c8dd-43d8-8302-89ffed8195a1  2022-12-31     299.000000   \n",
       "30297695  63a0efd6-d9ce-4789-81e6-760843b54b1d  2022-12-31    1609.980000   \n",
       "30297696  63a0fc26-e18c-4008-a336-34a094ce0324  2022-12-31    4322.700000   \n",
       "30297697  63adb370-c861-42e6-b00a-fb94566f12a9  2022-12-31       1.000000   \n",
       "30297698  63ae0f18-45f2-4ec4-9241-06ca89f64339  2022-12-31     254.770000   \n",
       "\n",
       "          days_late_at_date customer_status_final  \n",
       "0                         0               current  \n",
       "1                         0               current  \n",
       "2                         0               current  \n",
       "3                         0               current  \n",
       "4                         0               current  \n",
       "...                     ...                   ...  \n",
       "30297694                  0               current  \n",
       "30297695                  0               current  \n",
       "30297696                  0               current  \n",
       "30297697                  0               current  \n",
       "30297698                  0               current  \n",
       "\n",
       "[30297699 rows x 5 columns]"
      ]
     },
     "execution_count": 16,
     "metadata": {},
     "output_type": "execute_result"
    }
   ],
   "source": [
    "finaldf"
   ]
  },
  {
   "cell_type": "code",
   "execution_count": 19,
   "id": "6f12b6ae",
   "metadata": {},
   "outputs": [],
   "source": [
    "finaldf.to_csv('/Users/laura.chavez/Documents/GitHub/FinalProjectLCA/data/cleaned/cleandf.csv', index= False,sep=';')"
   ]
  },
  {
   "cell_type": "code",
   "execution_count": null,
   "id": "f6fed51d",
   "metadata": {},
   "outputs": [],
   "source": []
  }
 ],
 "metadata": {
  "kernelspec": {
   "display_name": "Python 3 (ipykernel)",
   "language": "python",
   "name": "python3"
  },
  "language_info": {
   "codemirror_mode": {
    "name": "ipython",
    "version": 3
   },
   "file_extension": ".py",
   "mimetype": "text/x-python",
   "name": "python",
   "nbconvert_exporter": "python",
   "pygments_lexer": "ipython3",
   "version": "3.9.13"
  }
 },
 "nbformat": 4,
 "nbformat_minor": 5
}
